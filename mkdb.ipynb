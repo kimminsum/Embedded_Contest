{
 "cells": [
  {
   "attachments": {},
   "cell_type": "markdown",
   "metadata": {},
   "source": [
    "##### <b> main.py </b>\n",
    "##### <b> Purpose: </b> Generate train images\n",
    "1. read pulse data from .csv\n",
    "2. find peaks\n",
    "3. split graph (height 1100 to 1600 && distance 200)\n",
    "4. save graph by 200x200 size (save at \"./train_data/\")"
   ]
  },
  {
   "cell_type": "code",
   "execution_count": 42,
   "metadata": {},
   "outputs": [],
   "source": [
    "# if user don't install libraries, send error message\n",
    "try: \n",
    "    import matplotlib.pyplot as plt\n",
    "    from scipy.signal import find_peaks\n",
    "    import numpy as np\n",
    "    import csv\n",
    "    import os\n",
    "except:\n",
    "    print(\"Error: You need to install libraries\")"
   ]
  },
  {
   "cell_type": "code",
   "execution_count": 43,
   "metadata": {},
   "outputs": [],
   "source": [
    "# V 부정맥 M 이 정상\n",
    "mkdb_file_name: str = \"116_V1\""
   ]
  },
  {
   "attachments": {},
   "cell_type": "markdown",
   "metadata": {},
   "source": [
    "<b> Read pulse data from .csv </b>"
   ]
  },
  {
   "cell_type": "code",
   "execution_count": 44,
   "metadata": {},
   "outputs": [],
   "source": [
    "# open and read .csv\n",
    "f = open(f\"{os.getcwd()}\\\\data\\\\{mkdb_file_name}.csv\", \"r\")\n",
    "data = csv.reader(f)\n",
    "\n",
    "next(data) # Skip header || because of unuseful data\n",
    "\n",
    "\"\"\"Convert type to list to numpy array\"\"\"\n",
    "y: list = []\n",
    "for row in data:\n",
    "    y.append(int(row[0]))\n",
    "# close .csv\n",
    "f.close()\n",
    "\n",
    "# change type to numpy array\n",
    "y = np.array(y)"
   ]
  },
  {
   "attachments": {},
   "cell_type": "markdown",
   "metadata": {},
   "source": [
    "<b> Find peaks from graph </b>"
   ]
  },
  {
   "cell_type": "code",
   "execution_count": 45,
   "metadata": {},
   "outputs": [],
   "source": [
    "# y range --> [1100, 1600], distance --> 200\n",
    "peaks, _ = find_peaks(y, height=(1100, 1600), distance=200)"
   ]
  },
  {
   "attachments": {},
   "cell_type": "markdown",
   "metadata": {},
   "source": [
    "<b> Save figure from \"./train_data/\" </b>"
   ]
  },
  {
   "cell_type": "code",
   "execution_count": 46,
   "metadata": {},
   "outputs": [
    {
     "name": "stdout",
     "output_type": "stream",
     "text": [
      "image to be created: 0\n"
     ]
    }
   ],
   "source": [
    "print(f\"image to be created: {len(peaks)}\")\n",
    "for pulse_N in range(1, len(peaks)-1):\n",
    "    fig = plt.figure(frameon=False)\n",
    "    fig.set_size_inches(1, 1)\n",
    "    ax = fig.add_axes([0, 0, 1, 1])\n",
    "    ax.axis(\"off\")\n",
    "    ax.plot(y[peaks[pulse_N]: peaks[pulse_N+1]])\n",
    "    try:\n",
    "        os.makedirs(\"train_data\")\n",
    "    except:\n",
    "        try:\n",
    "            fig.savefig(f\"{os.getcwd()}\\\\train_data\\\\{mkdb_file_name}\\\\{pulse_N}.png\", format=\"png\")\n",
    "        except:\n",
    "            os.makedirs(f\"train_data//{mkdb_file_name}\")\n",
    "            fig.savefig(f\"{os.getcwd()}\\\\train_data\\\\{mkdb_file_name}\\\\{pulse_N}.png\", format=\"png\")\n",
    "    plt.close()"
   ]
  }
 ],
 "metadata": {
  "kernelspec": {
   "display_name": "venv",
   "language": "python",
   "name": "python3"
  },
  "language_info": {
   "codemirror_mode": {
    "name": "ipython",
    "version": 3
   },
   "file_extension": ".py",
   "mimetype": "text/x-python",
   "name": "python",
   "nbconvert_exporter": "python",
   "pygments_lexer": "ipython3",
   "version": "3.10.11"
  },
  "orig_nbformat": 4
 },
 "nbformat": 4,
 "nbformat_minor": 2
}
